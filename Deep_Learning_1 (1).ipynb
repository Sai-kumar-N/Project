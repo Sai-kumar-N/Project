{
 "cells": [
  {
   "cell_type": "markdown",
   "metadata": {
    "colab_type": "text",
    "id": "wY2-NcZaECPV"
   },
   "source": [
    "# Model -  Sequential & Functional\n",
    "\n",
    "**Sequential is the easiest way to build a model in Keras. It allows you to build a model layer by layer. Each layer has weights that correspond to the layer the follows it.**\n",
    "\n",
    "\n",
    "* We use the **‘add()’**  function to add layers to our model.\n",
    "\n",
    "\n",
    "* **‘Dense’** is the layer type. Dense is a standard layer type that works for most cases. In a dense layer, all nodes in the previous layer connect to the nodes in the current layer.\n",
    "\n",
    "\n",
    "**We define nodes in each of our input layers. This number can also be in the hundreds or thousands. Increasing the number of nodes in each layer increases model capacity. I will go into further detail about the effects of increasing model capacity shortly.**\n",
    "\n",
    "\n",
    "* **‘Activation’** is the activation function for the layer. An activation function allows models to take into account nonlinear relationships."
   ]
  },
  {
   "cell_type": "markdown",
   "metadata": {
    "colab_type": "text",
    "id": "nRevaPp6ECPX"
   },
   "source": [
    "**The first layer needs an input shape. The input shape specifies the number of rows and columns in the input.**\n"
   ]
  },
  {
   "cell_type": "markdown",
   "metadata": {
    "colab_type": "text",
    "id": "pTQbiteOECPY"
   },
   "source": [
    "**The last layer is the output layer. It only has one node, two nodes as per requirment. which is for our prediction.**"
   ]
  },
  {
   "cell_type": "markdown",
   "metadata": {
    "colab_type": "text",
    "id": "83ZTm03EECPZ"
   },
   "source": [
    "# Compiling Model. \n",
    "\n",
    "**Compiling the model takes two parameters: optimizer and loss.**\n",
    "\n",
    "* The **optimizer** controls the learning rate. We will be using **‘adam’** as our optmizer. \n",
    "\n",
    "* Adam is generally a good optimizer to use for many cases. The adam optimizer adjusts the learning rate throughout training.\n",
    "\n",
    "* The learning rate determines how fast the optimal weights for the model are calculated. A smaller learning rate may lead to more accurate weights (up to a certain point), but the time it takes to compute the weights will be longer.\n",
    "\n",
    "* For our loss function, we will use ‘as per requirment ( regression or Classification’."
   ]
  },
  {
   "cell_type": "markdown",
   "metadata": {
    "colab_type": "text",
    "id": "zAOm-0lsECPa"
   },
   "source": [
    "# Train\n",
    "\n",
    "* we will use the ‘fit()’ function on our model with the following five parameters: \n",
    "* training data (train_X), \n",
    "* target data (train_y), \n",
    "* validation split, \n",
    "* number of epochs \n",
    "* callbacks.\n",
    "\n",
    "* The validation split will randomly split the data into use for training and testing. \n",
    "\n",
    "* During training, we will be able to see the validation loss, If we will set the validation split at 0.2, which means that 20% of the training data we provide in the model will be set aside for testing model performance.\n",
    "\n",
    "* The number of epochs is the number of times the model will cycle through the data. The more epochs we run, the more the model will improve, up to a certain point. After that point, the model will stop improving during each epoch. In addition, the more epochs, the longer the model will take to run. To monitor this, we will use ‘early stopping’.\n",
    "\n",
    "* Early stopping will stop the model from training before the number of epochs is reached if the model stops improving. We will set our early stopping monitor to 3. This means that after 3 epochs in a row in which the model doesn’t improve, training will stop. Sometimes, the validation loss can stop improving then improve in the next epoch, but after 3 epochs in which the validation loss doesn’t improve, it usually won’t improve again."
   ]
  },
  {
   "cell_type": "markdown",
   "metadata": {
    "colab_type": "text",
    "id": "KkTXN3SkECPb"
   },
   "source": [
    "* to make predictions on new data, we would use the *‘predict()’* function, passing in our new data."
   ]
  },
  {
   "cell_type": "markdown",
   "metadata": {
    "colab_type": "text",
    "id": "e9M2hRzxECPc"
   },
   "source": [
    "**As you increase the number of nodes and layers in a model, the model capacity increases. Increasing model capacity can lead to a more accurate model, up to a certain point, at which the model will stop improving. Generally, the more training data you provide, the larger the model should be.**"
   ]
  },
  {
   "cell_type": "markdown",
   "metadata": {
    "colab_type": "text",
    "id": "x9pgXM8wECPc"
   },
   "source": [
    "#  Deep Learning Model"
   ]
  },
  {
   "cell_type": "code",
   "execution_count": 51,
   "metadata": {},
   "outputs": [],
   "source": [
    "#conda install tensorflow --- in anaconda prompt"
   ]
  },
  {
   "cell_type": "code",
   "execution_count": 52,
   "metadata": {},
   "outputs": [],
   "source": [
    "#conda install keras"
   ]
  },
  {
   "cell_type": "code",
   "execution_count": 53,
   "metadata": {
    "colab": {},
    "colab_type": "code",
    "id": "99293I--mwjt"
   },
   "outputs": [],
   "source": [
    "import tensorflow as tf   "
   ]
  },
  {
   "cell_type": "code",
   "execution_count": 54,
   "metadata": {},
   "outputs": [],
   "source": [
    "import keras"
   ]
  },
  {
   "cell_type": "code",
   "execution_count": 55,
   "metadata": {
    "colab": {},
    "colab_type": "code",
    "id": "2537BMEcnAHU"
   },
   "outputs": [],
   "source": [
    "from tensorflow.keras import Sequential    #  model"
   ]
  },
  {
   "cell_type": "code",
   "execution_count": 56,
   "metadata": {
    "colab": {},
    "colab_type": "code",
    "id": "WTeJJ5TpnAWJ"
   },
   "outputs": [],
   "source": [
    "from tensorflow.keras.layers import Dense"
   ]
  },
  {
   "cell_type": "code",
   "execution_count": 57,
   "metadata": {
    "colab": {},
    "colab_type": "code",
    "id": "speqEhqPn5Vb"
   },
   "outputs": [],
   "source": [
    "import numpy as np\n",
    "import pandas as pd"
   ]
  },
  {
   "cell_type": "code",
   "execution_count": 58,
   "metadata": {
    "colab": {},
    "colab_type": "code",
    "id": "6oRtmuChnAm-"
   },
   "outputs": [],
   "source": [
    "data = pd.read_csv(\"/home/shyam/Documents/datasets/IRIS.csv\") "
   ]
  },
  {
   "cell_type": "code",
   "execution_count": null,
   "metadata": {},
   "outputs": [],
   "source": []
  },
  {
   "cell_type": "code",
   "execution_count": 59,
   "metadata": {
    "colab": {
     "base_uri": "https://localhost:8080/",
     "height": 195
    },
    "colab_type": "code",
    "id": "Y6_rZHcYotks",
    "outputId": "4c2400dd-aee2-41ce-f689-78ab5879f238"
   },
   "outputs": [
    {
     "data": {
      "text/html": [
       "<div>\n",
       "<style scoped>\n",
       "    .dataframe tbody tr th:only-of-type {\n",
       "        vertical-align: middle;\n",
       "    }\n",
       "\n",
       "    .dataframe tbody tr th {\n",
       "        vertical-align: top;\n",
       "    }\n",
       "\n",
       "    .dataframe thead th {\n",
       "        text-align: right;\n",
       "    }\n",
       "</style>\n",
       "<table border=\"1\" class=\"dataframe\">\n",
       "  <thead>\n",
       "    <tr style=\"text-align: right;\">\n",
       "      <th></th>\n",
       "      <th>sepal_length</th>\n",
       "      <th>sepal_width</th>\n",
       "      <th>petal_length</th>\n",
       "      <th>petal_width</th>\n",
       "      <th>species</th>\n",
       "    </tr>\n",
       "  </thead>\n",
       "  <tbody>\n",
       "    <tr>\n",
       "      <th>0</th>\n",
       "      <td>5.1</td>\n",
       "      <td>3.5</td>\n",
       "      <td>1.4</td>\n",
       "      <td>0.2</td>\n",
       "      <td>Iris-setosa</td>\n",
       "    </tr>\n",
       "    <tr>\n",
       "      <th>1</th>\n",
       "      <td>4.9</td>\n",
       "      <td>3.0</td>\n",
       "      <td>1.4</td>\n",
       "      <td>0.2</td>\n",
       "      <td>Iris-setosa</td>\n",
       "    </tr>\n",
       "    <tr>\n",
       "      <th>2</th>\n",
       "      <td>4.7</td>\n",
       "      <td>3.2</td>\n",
       "      <td>1.3</td>\n",
       "      <td>0.2</td>\n",
       "      <td>Iris-setosa</td>\n",
       "    </tr>\n",
       "    <tr>\n",
       "      <th>3</th>\n",
       "      <td>4.6</td>\n",
       "      <td>3.1</td>\n",
       "      <td>1.5</td>\n",
       "      <td>0.2</td>\n",
       "      <td>Iris-setosa</td>\n",
       "    </tr>\n",
       "    <tr>\n",
       "      <th>4</th>\n",
       "      <td>5.0</td>\n",
       "      <td>3.6</td>\n",
       "      <td>1.4</td>\n",
       "      <td>0.2</td>\n",
       "      <td>Iris-setosa</td>\n",
       "    </tr>\n",
       "  </tbody>\n",
       "</table>\n",
       "</div>"
      ],
      "text/plain": [
       "   sepal_length  sepal_width  petal_length  petal_width      species\n",
       "0           5.1          3.5           1.4          0.2  Iris-setosa\n",
       "1           4.9          3.0           1.4          0.2  Iris-setosa\n",
       "2           4.7          3.2           1.3          0.2  Iris-setosa\n",
       "3           4.6          3.1           1.5          0.2  Iris-setosa\n",
       "4           5.0          3.6           1.4          0.2  Iris-setosa"
      ]
     },
     "execution_count": 59,
     "metadata": {},
     "output_type": "execute_result"
    }
   ],
   "source": [
    "data.head()"
   ]
  },
  {
   "cell_type": "code",
   "execution_count": 60,
   "metadata": {
    "colab": {
     "base_uri": "https://localhost:8080/",
     "height": 134
    },
    "colab_type": "code",
    "id": "X_Z6bn2lpXsR",
    "outputId": "82c558c2-9201-4eb7-c86e-920542489126"
   },
   "outputs": [
    {
     "data": {
      "text/plain": [
       "sepal_length    float64\n",
       "sepal_width     float64\n",
       "petal_length    float64\n",
       "petal_width     float64\n",
       "species          object\n",
       "dtype: object"
      ]
     },
     "execution_count": 60,
     "metadata": {},
     "output_type": "execute_result"
    }
   ],
   "source": [
    "data.dtypes"
   ]
  },
  {
   "cell_type": "code",
   "execution_count": 61,
   "metadata": {},
   "outputs": [
    {
     "data": {
      "text/plain": [
       "(150, 5)"
      ]
     },
     "execution_count": 61,
     "metadata": {},
     "output_type": "execute_result"
    }
   ],
   "source": [
    "data.shape"
   ]
  },
  {
   "cell_type": "code",
   "execution_count": 62,
   "metadata": {
    "colab": {},
    "colab_type": "code",
    "id": "Xxi3wIcqpXvV"
   },
   "outputs": [],
   "source": [
    "from sklearn.preprocessing import LabelEncoder\n",
    "\n",
    "lc = LabelEncoder()"
   ]
  },
  {
   "cell_type": "code",
   "execution_count": 63,
   "metadata": {
    "colab": {},
    "colab_type": "code",
    "id": "YOfP7EX2tCcY"
   },
   "outputs": [],
   "source": [
    "data['species'] = lc.fit_transform(data['species'])"
   ]
  },
  {
   "cell_type": "code",
   "execution_count": 64,
   "metadata": {
    "colab": {
     "base_uri": "https://localhost:8080/",
     "height": 195
    },
    "colab_type": "code",
    "id": "HhFh4-wIpXwv",
    "outputId": "6e287b19-4677-4f3e-c8a0-73057f706479"
   },
   "outputs": [
    {
     "data": {
      "text/html": [
       "<div>\n",
       "<style scoped>\n",
       "    .dataframe tbody tr th:only-of-type {\n",
       "        vertical-align: middle;\n",
       "    }\n",
       "\n",
       "    .dataframe tbody tr th {\n",
       "        vertical-align: top;\n",
       "    }\n",
       "\n",
       "    .dataframe thead th {\n",
       "        text-align: right;\n",
       "    }\n",
       "</style>\n",
       "<table border=\"1\" class=\"dataframe\">\n",
       "  <thead>\n",
       "    <tr style=\"text-align: right;\">\n",
       "      <th></th>\n",
       "      <th>sepal_length</th>\n",
       "      <th>sepal_width</th>\n",
       "      <th>petal_length</th>\n",
       "      <th>petal_width</th>\n",
       "      <th>species</th>\n",
       "    </tr>\n",
       "  </thead>\n",
       "  <tbody>\n",
       "    <tr>\n",
       "      <th>0</th>\n",
       "      <td>5.1</td>\n",
       "      <td>3.5</td>\n",
       "      <td>1.4</td>\n",
       "      <td>0.2</td>\n",
       "      <td>0</td>\n",
       "    </tr>\n",
       "    <tr>\n",
       "      <th>1</th>\n",
       "      <td>4.9</td>\n",
       "      <td>3.0</td>\n",
       "      <td>1.4</td>\n",
       "      <td>0.2</td>\n",
       "      <td>0</td>\n",
       "    </tr>\n",
       "    <tr>\n",
       "      <th>2</th>\n",
       "      <td>4.7</td>\n",
       "      <td>3.2</td>\n",
       "      <td>1.3</td>\n",
       "      <td>0.2</td>\n",
       "      <td>0</td>\n",
       "    </tr>\n",
       "    <tr>\n",
       "      <th>3</th>\n",
       "      <td>4.6</td>\n",
       "      <td>3.1</td>\n",
       "      <td>1.5</td>\n",
       "      <td>0.2</td>\n",
       "      <td>0</td>\n",
       "    </tr>\n",
       "    <tr>\n",
       "      <th>4</th>\n",
       "      <td>5.0</td>\n",
       "      <td>3.6</td>\n",
       "      <td>1.4</td>\n",
       "      <td>0.2</td>\n",
       "      <td>0</td>\n",
       "    </tr>\n",
       "  </tbody>\n",
       "</table>\n",
       "</div>"
      ],
      "text/plain": [
       "   sepal_length  sepal_width  petal_length  petal_width  species\n",
       "0           5.1          3.5           1.4          0.2        0\n",
       "1           4.9          3.0           1.4          0.2        0\n",
       "2           4.7          3.2           1.3          0.2        0\n",
       "3           4.6          3.1           1.5          0.2        0\n",
       "4           5.0          3.6           1.4          0.2        0"
      ]
     },
     "execution_count": 64,
     "metadata": {},
     "output_type": "execute_result"
    }
   ],
   "source": [
    "data.head()"
   ]
  },
  {
   "cell_type": "code",
   "execution_count": 65,
   "metadata": {
    "colab": {
     "base_uri": "https://localhost:8080/",
     "height": 134
    },
    "colab_type": "code",
    "id": "jx6WhAMkpXzf",
    "outputId": "28c94661-1477-4fc5-b929-43027e0ccbd9"
   },
   "outputs": [
    {
     "data": {
      "text/plain": [
       "sepal_length    0\n",
       "sepal_width     0\n",
       "petal_length    0\n",
       "petal_width     0\n",
       "species         0\n",
       "dtype: int64"
      ]
     },
     "execution_count": 65,
     "metadata": {},
     "output_type": "execute_result"
    }
   ],
   "source": [
    "data.isnull().sum()"
   ]
  },
  {
   "cell_type": "code",
   "execution_count": 66,
   "metadata": {
    "colab": {},
    "colab_type": "code",
    "id": "8eNAPEH1pX0x"
   },
   "outputs": [],
   "source": [
    "X = data.iloc[:,0:4]"
   ]
  },
  {
   "cell_type": "code",
   "execution_count": null,
   "metadata": {},
   "outputs": [],
   "source": []
  },
  {
   "cell_type": "code",
   "execution_count": 67,
   "metadata": {
    "colab": {
     "base_uri": "https://localhost:8080/",
     "height": 195
    },
    "colab_type": "code",
    "id": "RnrNWRpTpX4v",
    "outputId": "e22ce3f2-a72d-4526-83a0-c32dd214ea5a"
   },
   "outputs": [
    {
     "data": {
      "text/html": [
       "<div>\n",
       "<style scoped>\n",
       "    .dataframe tbody tr th:only-of-type {\n",
       "        vertical-align: middle;\n",
       "    }\n",
       "\n",
       "    .dataframe tbody tr th {\n",
       "        vertical-align: top;\n",
       "    }\n",
       "\n",
       "    .dataframe thead th {\n",
       "        text-align: right;\n",
       "    }\n",
       "</style>\n",
       "<table border=\"1\" class=\"dataframe\">\n",
       "  <thead>\n",
       "    <tr style=\"text-align: right;\">\n",
       "      <th></th>\n",
       "      <th>sepal_length</th>\n",
       "      <th>sepal_width</th>\n",
       "      <th>petal_length</th>\n",
       "      <th>petal_width</th>\n",
       "    </tr>\n",
       "  </thead>\n",
       "  <tbody>\n",
       "    <tr>\n",
       "      <th>0</th>\n",
       "      <td>5.1</td>\n",
       "      <td>3.5</td>\n",
       "      <td>1.4</td>\n",
       "      <td>0.2</td>\n",
       "    </tr>\n",
       "    <tr>\n",
       "      <th>1</th>\n",
       "      <td>4.9</td>\n",
       "      <td>3.0</td>\n",
       "      <td>1.4</td>\n",
       "      <td>0.2</td>\n",
       "    </tr>\n",
       "    <tr>\n",
       "      <th>2</th>\n",
       "      <td>4.7</td>\n",
       "      <td>3.2</td>\n",
       "      <td>1.3</td>\n",
       "      <td>0.2</td>\n",
       "    </tr>\n",
       "    <tr>\n",
       "      <th>3</th>\n",
       "      <td>4.6</td>\n",
       "      <td>3.1</td>\n",
       "      <td>1.5</td>\n",
       "      <td>0.2</td>\n",
       "    </tr>\n",
       "    <tr>\n",
       "      <th>4</th>\n",
       "      <td>5.0</td>\n",
       "      <td>3.6</td>\n",
       "      <td>1.4</td>\n",
       "      <td>0.2</td>\n",
       "    </tr>\n",
       "  </tbody>\n",
       "</table>\n",
       "</div>"
      ],
      "text/plain": [
       "   sepal_length  sepal_width  petal_length  petal_width\n",
       "0           5.1          3.5           1.4          0.2\n",
       "1           4.9          3.0           1.4          0.2\n",
       "2           4.7          3.2           1.3          0.2\n",
       "3           4.6          3.1           1.5          0.2\n",
       "4           5.0          3.6           1.4          0.2"
      ]
     },
     "execution_count": 67,
     "metadata": {},
     "output_type": "execute_result"
    }
   ],
   "source": [
    "X.head()"
   ]
  },
  {
   "cell_type": "code",
   "execution_count": null,
   "metadata": {},
   "outputs": [],
   "source": []
  },
  {
   "cell_type": "code",
   "execution_count": null,
   "metadata": {},
   "outputs": [],
   "source": []
  },
  {
   "cell_type": "code",
   "execution_count": 68,
   "metadata": {},
   "outputs": [],
   "source": [
    "#y"
   ]
  },
  {
   "cell_type": "code",
   "execution_count": 69,
   "metadata": {},
   "outputs": [],
   "source": [
    "y=data['species']"
   ]
  },
  {
   "cell_type": "code",
   "execution_count": 70,
   "metadata": {},
   "outputs": [],
   "source": [
    "from sklearn.model_selection import train_test_split"
   ]
  },
  {
   "cell_type": "code",
   "execution_count": 71,
   "metadata": {},
   "outputs": [],
   "source": [
    "X_train,X_test,y_train,y_test=train_test_split(X,y, test_size=0.2)"
   ]
  },
  {
   "cell_type": "code",
   "execution_count": 72,
   "metadata": {
    "colab": {},
    "colab_type": "code",
    "id": "o9lWotpXpYEi"
   },
   "outputs": [],
   "source": [
    "model = Sequential()\n",
    "\n",
    "model.add(Dense(10, input_dim=4, activation='relu'))\n",
    "model.add(Dense(10, activation='relu'))\n",
    "model.add(Dense(3, activation='softmax'))\n",
    "\n",
    "model.compile(loss='sparse_categorical_crossentropy', optimizer='adam', metrics=['accuracy'])"
   ]
  },
  {
   "cell_type": "code",
   "execution_count": null,
   "metadata": {},
   "outputs": [],
   "source": []
  },
  {
   "cell_type": "code",
   "execution_count": 73,
   "metadata": {
    "colab": {
     "base_uri": "https://localhost:8080/",
     "height": 1000
    },
    "colab_type": "code",
    "id": "6VM4X5LBpX_P",
    "outputId": "6daaa873-1280-47e1-bd9b-de23b8540512"
   },
   "outputs": [
    {
     "name": "stdout",
     "output_type": "stream",
     "text": [
      "Epoch 1/300\n",
      "10/10 [==============================] - 0s 16ms/step - loss: 1.1728 - accuracy: 0.6261 - val_loss: 1.1915 - val_accuracy: 0.5833\n",
      "Epoch 2/300\n",
      "10/10 [==============================] - 0s 4ms/step - loss: 1.1849 - accuracy: 0.5932 - val_loss: 1.1676 - val_accuracy: 0.5833\n",
      "Epoch 3/300\n",
      "10/10 [==============================] - 0s 4ms/step - loss: 1.1459 - accuracy: 0.6041 - val_loss: 1.1544 - val_accuracy: 0.5833\n",
      "Epoch 4/300\n",
      "10/10 [==============================] - 0s 4ms/step - loss: 1.0979 - accuracy: 0.6599 - val_loss: 1.1442 - val_accuracy: 0.5417\n",
      "Epoch 5/300\n",
      "10/10 [==============================] - 0s 4ms/step - loss: 1.1158 - accuracy: 0.5929 - val_loss: 1.1309 - val_accuracy: 0.5417\n",
      "Epoch 6/300\n",
      "10/10 [==============================] - 0s 5ms/step - loss: 1.1105 - accuracy: 0.5833 - val_loss: 1.1212 - val_accuracy: 0.5417\n",
      "Epoch 7/300\n",
      "10/10 [==============================] - 0s 4ms/step - loss: 1.0738 - accuracy: 0.6740 - val_loss: 1.1190 - val_accuracy: 0.5000\n",
      "Epoch 8/300\n",
      "10/10 [==============================] - 0s 4ms/step - loss: 1.0944 - accuracy: 0.5496 - val_loss: 1.1122 - val_accuracy: 0.5000\n",
      "Epoch 9/300\n",
      "10/10 [==============================] - 0s 4ms/step - loss: 1.0759 - accuracy: 0.5990 - val_loss: 1.1107 - val_accuracy: 0.5000\n",
      "Epoch 10/300\n",
      "10/10 [==============================] - 0s 5ms/step - loss: 1.0621 - accuracy: 0.6113 - val_loss: 1.1072 - val_accuracy: 0.5000\n",
      "Epoch 11/300\n",
      "10/10 [==============================] - 0s 4ms/step - loss: 1.0718 - accuracy: 0.4516 - val_loss: 1.1014 - val_accuracy: 0.2917\n",
      "Epoch 12/300\n",
      "10/10 [==============================] - 0s 4ms/step - loss: 1.0646 - accuracy: 0.3852 - val_loss: 1.0975 - val_accuracy: 0.2917\n",
      "Epoch 13/300\n",
      "10/10 [==============================] - 0s 4ms/step - loss: 1.0648 - accuracy: 0.3656 - val_loss: 1.0972 - val_accuracy: 0.2500\n",
      "Epoch 14/300\n",
      "10/10 [==============================] - 0s 4ms/step - loss: 1.0693 - accuracy: 0.3075 - val_loss: 1.0906 - val_accuracy: 0.2083\n",
      "Epoch 15/300\n",
      "10/10 [==============================] - 0s 4ms/step - loss: 1.0591 - accuracy: 0.3293 - val_loss: 1.0888 - val_accuracy: 0.2083\n",
      "Epoch 16/300\n",
      "10/10 [==============================] - 0s 5ms/step - loss: 1.0499 - accuracy: 0.3675 - val_loss: 1.0850 - val_accuracy: 0.2083\n",
      "Epoch 17/300\n",
      "10/10 [==============================] - 0s 5ms/step - loss: 1.0413 - accuracy: 0.3799 - val_loss: 1.0840 - val_accuracy: 0.2083\n",
      "Epoch 18/300\n",
      "10/10 [==============================] - 0s 4ms/step - loss: 1.0342 - accuracy: 0.3652 - val_loss: 1.0774 - val_accuracy: 0.1667\n",
      "Epoch 19/300\n",
      "10/10 [==============================] - 0s 4ms/step - loss: 1.0482 - accuracy: 0.3148 - val_loss: 1.0721 - val_accuracy: 0.1667\n",
      "Epoch 20/300\n",
      "10/10 [==============================] - 0s 4ms/step - loss: 1.0323 - accuracy: 0.3572 - val_loss: 1.0680 - val_accuracy: 0.1667\n",
      "Epoch 21/300\n",
      "10/10 [==============================] - 0s 4ms/step - loss: 1.0301 - accuracy: 0.3597 - val_loss: 1.0647 - val_accuracy: 0.1667\n",
      "Epoch 22/300\n",
      "10/10 [==============================] - 0s 4ms/step - loss: 1.0361 - accuracy: 0.3261 - val_loss: 1.0578 - val_accuracy: 0.1667\n",
      "Epoch 23/300\n",
      "10/10 [==============================] - 0s 4ms/step - loss: 1.0281 - accuracy: 0.3180 - val_loss: 1.0517 - val_accuracy: 0.1667\n",
      "Epoch 24/300\n",
      "10/10 [==============================] - 0s 5ms/step - loss: 1.0240 - accuracy: 0.3255 - val_loss: 1.0452 - val_accuracy: 0.1667\n",
      "Epoch 25/300\n",
      "10/10 [==============================] - 0s 4ms/step - loss: 0.9956 - accuracy: 0.3993 - val_loss: 1.0403 - val_accuracy: 0.1667\n",
      "Epoch 26/300\n",
      "10/10 [==============================] - 0s 4ms/step - loss: 1.0012 - accuracy: 0.3412 - val_loss: 1.0352 - val_accuracy: 0.1667\n",
      "Epoch 27/300\n",
      "10/10 [==============================] - 0s 4ms/step - loss: 0.9823 - accuracy: 0.3712 - val_loss: 1.0281 - val_accuracy: 0.1250\n",
      "Epoch 28/300\n",
      "10/10 [==============================] - 0s 4ms/step - loss: 0.9933 - accuracy: 0.3285 - val_loss: 1.0184 - val_accuracy: 0.1250\n",
      "Epoch 29/300\n",
      "10/10 [==============================] - 0s 4ms/step - loss: 0.9877 - accuracy: 0.2700 - val_loss: 1.0068 - val_accuracy: 0.1250\n",
      "Epoch 30/300\n",
      "10/10 [==============================] - 0s 4ms/step - loss: 0.9721 - accuracy: 0.3616 - val_loss: 0.9994 - val_accuracy: 0.1667\n",
      "Epoch 31/300\n",
      "10/10 [==============================] - 0s 4ms/step - loss: 0.9531 - accuracy: 0.4680 - val_loss: 0.9874 - val_accuracy: 0.2083\n",
      "Epoch 32/300\n",
      "10/10 [==============================] - 0s 4ms/step - loss: 0.9528 - accuracy: 0.5534 - val_loss: 0.9703 - val_accuracy: 0.2917\n",
      "Epoch 33/300\n",
      "10/10 [==============================] - 0s 4ms/step - loss: 0.9352 - accuracy: 0.5927 - val_loss: 0.9492 - val_accuracy: 0.6250\n",
      "Epoch 34/300\n",
      "10/10 [==============================] - 0s 4ms/step - loss: 0.9145 - accuracy: 0.6465 - val_loss: 0.9290 - val_accuracy: 0.7500\n",
      "Epoch 35/300\n",
      "10/10 [==============================] - 0s 5ms/step - loss: 0.9039 - accuracy: 0.5991 - val_loss: 0.9150 - val_accuracy: 0.7500\n",
      "Epoch 36/300\n",
      "10/10 [==============================] - 0s 4ms/step - loss: 0.8991 - accuracy: 0.7175 - val_loss: 0.8904 - val_accuracy: 0.7917\n",
      "Epoch 37/300\n",
      "10/10 [==============================] - 0s 4ms/step - loss: 0.8766 - accuracy: 0.7723 - val_loss: 0.8774 - val_accuracy: 0.8750\n",
      "Epoch 38/300\n",
      "10/10 [==============================] - 0s 4ms/step - loss: 0.8560 - accuracy: 0.8103 - val_loss: 0.8514 - val_accuracy: 0.8750\n",
      "Epoch 39/300\n",
      "10/10 [==============================] - 0s 4ms/step - loss: 0.8308 - accuracy: 0.7566 - val_loss: 0.8338 - val_accuracy: 0.9167\n",
      "Epoch 40/300\n",
      "10/10 [==============================] - 0s 4ms/step - loss: 0.8273 - accuracy: 0.7805 - val_loss: 0.8161 - val_accuracy: 0.9167\n",
      "Epoch 41/300\n",
      "10/10 [==============================] - 0s 4ms/step - loss: 0.8171 - accuracy: 0.8506 - val_loss: 0.7904 - val_accuracy: 0.9167\n",
      "Epoch 42/300\n",
      "10/10 [==============================] - 0s 3ms/step - loss: 0.8129 - accuracy: 0.7594 - val_loss: 0.7772 - val_accuracy: 0.9167\n",
      "Epoch 43/300\n",
      "10/10 [==============================] - 0s 4ms/step - loss: 0.7902 - accuracy: 0.7817 - val_loss: 0.7542 - val_accuracy: 0.9167\n",
      "Epoch 44/300\n",
      "10/10 [==============================] - 0s 3ms/step - loss: 0.7361 - accuracy: 0.8210 - val_loss: 0.7274 - val_accuracy: 0.9167\n",
      "Epoch 45/300\n",
      "10/10 [==============================] - 0s 3ms/step - loss: 0.7557 - accuracy: 0.8036 - val_loss: 0.7241 - val_accuracy: 0.9167\n",
      "Epoch 46/300\n",
      "10/10 [==============================] - 0s 3ms/step - loss: 0.7164 - accuracy: 0.9206 - val_loss: 0.6946 - val_accuracy: 0.9167\n",
      "Epoch 47/300\n",
      "10/10 [==============================] - 0s 4ms/step - loss: 0.6952 - accuracy: 0.8536 - val_loss: 0.6549 - val_accuracy: 0.9583\n",
      "Epoch 48/300\n",
      "10/10 [==============================] - 0s 3ms/step - loss: 0.6485 - accuracy: 0.8666 - val_loss: 0.6304 - val_accuracy: 0.9583\n",
      "Epoch 49/300\n",
      "10/10 [==============================] - 0s 3ms/step - loss: 0.6499 - accuracy: 0.8538 - val_loss: 0.6322 - val_accuracy: 0.8750\n",
      "Epoch 50/300\n",
      "10/10 [==============================] - 0s 3ms/step - loss: 0.6291 - accuracy: 0.9130 - val_loss: 0.5904 - val_accuracy: 0.9167\n",
      "Epoch 51/300\n",
      "10/10 [==============================] - 0s 3ms/step - loss: 0.5998 - accuracy: 0.9172 - val_loss: 0.5626 - val_accuracy: 0.9167\n",
      "Epoch 52/300\n",
      "10/10 [==============================] - 0s 4ms/step - loss: 0.5887 - accuracy: 0.9325 - val_loss: 0.5418 - val_accuracy: 0.9167\n",
      "Epoch 53/300\n",
      "10/10 [==============================] - 0s 3ms/step - loss: 0.5540 - accuracy: 0.9593 - val_loss: 0.5278 - val_accuracy: 0.9167\n",
      "Epoch 54/300\n",
      "10/10 [==============================] - 0s 4ms/step - loss: 0.5511 - accuracy: 0.8777 - val_loss: 0.4942 - val_accuracy: 0.9167\n",
      "Epoch 55/300\n",
      "10/10 [==============================] - 0s 3ms/step - loss: 0.5428 - accuracy: 0.9446 - val_loss: 0.4713 - val_accuracy: 0.9167\n",
      "Epoch 56/300\n",
      "10/10 [==============================] - 0s 4ms/step - loss: 0.5012 - accuracy: 0.9253 - val_loss: 0.4606 - val_accuracy: 0.9167\n",
      "Epoch 57/300\n",
      "10/10 [==============================] - 0s 3ms/step - loss: 0.5147 - accuracy: 0.8920 - val_loss: 0.4377 - val_accuracy: 0.9167\n",
      "Epoch 58/300\n",
      "10/10 [==============================] - 0s 4ms/step - loss: 0.4612 - accuracy: 0.9494 - val_loss: 0.4079 - val_accuracy: 0.9583\n"
     ]
    },
    {
     "name": "stdout",
     "output_type": "stream",
     "text": [
      "Epoch 59/300\n",
      "10/10 [==============================] - 0s 3ms/step - loss: 0.4507 - accuracy: 0.9551 - val_loss: 0.4028 - val_accuracy: 0.9167\n",
      "Epoch 60/300\n",
      "10/10 [==============================] - 0s 3ms/step - loss: 0.4260 - accuracy: 0.9646 - val_loss: 0.3786 - val_accuracy: 0.9583\n",
      "Epoch 61/300\n",
      "10/10 [==============================] - 0s 4ms/step - loss: 0.4530 - accuracy: 0.9169 - val_loss: 0.3641 - val_accuracy: 0.9583\n",
      "Epoch 62/300\n",
      "10/10 [==============================] - 0s 3ms/step - loss: 0.4632 - accuracy: 0.8914 - val_loss: 0.3529 - val_accuracy: 0.9167\n",
      "Epoch 63/300\n",
      "10/10 [==============================] - 0s 3ms/step - loss: 0.4120 - accuracy: 0.9185 - val_loss: 0.3355 - val_accuracy: 0.9583\n",
      "Epoch 64/300\n",
      "10/10 [==============================] - 0s 3ms/step - loss: 0.3679 - accuracy: 0.9496 - val_loss: 0.3267 - val_accuracy: 0.9583\n",
      "Epoch 65/300\n",
      "10/10 [==============================] - 0s 3ms/step - loss: 0.4007 - accuracy: 0.9308 - val_loss: 0.3205 - val_accuracy: 0.9167\n",
      "Epoch 66/300\n",
      "10/10 [==============================] - 0s 3ms/step - loss: 0.3729 - accuracy: 0.9259 - val_loss: 0.3115 - val_accuracy: 0.9167\n",
      "Epoch 67/300\n",
      "10/10 [==============================] - 0s 3ms/step - loss: 0.3415 - accuracy: 0.9427 - val_loss: 0.3013 - val_accuracy: 0.9167\n",
      "Epoch 68/300\n",
      "10/10 [==============================] - 0s 4ms/step - loss: 0.3668 - accuracy: 0.9281 - val_loss: 0.2779 - val_accuracy: 0.9583\n",
      "Epoch 69/300\n",
      "10/10 [==============================] - 0s 3ms/step - loss: 0.3371 - accuracy: 0.9342 - val_loss: 0.2717 - val_accuracy: 0.9583\n",
      "Epoch 70/300\n",
      "10/10 [==============================] - 0s 3ms/step - loss: 0.3395 - accuracy: 0.9569 - val_loss: 0.2804 - val_accuracy: 0.9167\n",
      "Epoch 71/300\n",
      "10/10 [==============================] - 0s 4ms/step - loss: 0.3201 - accuracy: 0.9152 - val_loss: 0.2690 - val_accuracy: 0.9167\n",
      "Epoch 72/300\n",
      "10/10 [==============================] - 0s 3ms/step - loss: 0.3345 - accuracy: 0.9344 - val_loss: 0.2504 - val_accuracy: 0.9583\n",
      "Epoch 73/300\n",
      "10/10 [==============================] - 0s 4ms/step - loss: 0.2807 - accuracy: 0.9574 - val_loss: 0.2372 - val_accuracy: 0.9583\n",
      "Epoch 74/300\n",
      "10/10 [==============================] - 0s 3ms/step - loss: 0.3052 - accuracy: 0.9549 - val_loss: 0.2378 - val_accuracy: 0.9583\n",
      "Epoch 75/300\n",
      "10/10 [==============================] - 0s 3ms/step - loss: 0.2722 - accuracy: 0.9651 - val_loss: 0.2328 - val_accuracy: 0.9583\n",
      "Epoch 76/300\n",
      "10/10 [==============================] - 0s 4ms/step - loss: 0.2800 - accuracy: 0.9636 - val_loss: 0.2253 - val_accuracy: 0.9583\n",
      "Epoch 77/300\n",
      "10/10 [==============================] - 0s 3ms/step - loss: 0.2519 - accuracy: 0.9685 - val_loss: 0.2194 - val_accuracy: 0.9583\n",
      "Epoch 78/300\n",
      "10/10 [==============================] - 0s 4ms/step - loss: 0.2705 - accuracy: 0.9303 - val_loss: 0.2169 - val_accuracy: 0.9583\n",
      "Epoch 79/300\n",
      "10/10 [==============================] - 0s 3ms/step - loss: 0.2496 - accuracy: 0.9633 - val_loss: 0.2048 - val_accuracy: 0.9583\n",
      "Epoch 80/300\n",
      "10/10 [==============================] - 0s 3ms/step - loss: 0.2692 - accuracy: 0.9325 - val_loss: 0.2062 - val_accuracy: 1.0000\n",
      "Epoch 81/300\n",
      "10/10 [==============================] - 0s 3ms/step - loss: 0.2686 - accuracy: 0.9502 - val_loss: 0.1989 - val_accuracy: 1.0000\n",
      "Epoch 82/300\n",
      "10/10 [==============================] - 0s 4ms/step - loss: 0.2664 - accuracy: 0.9301 - val_loss: 0.1862 - val_accuracy: 0.9583\n",
      "Epoch 83/300\n",
      "10/10 [==============================] - 0s 3ms/step - loss: 0.2712 - accuracy: 0.9515 - val_loss: 0.1950 - val_accuracy: 1.0000\n",
      "Epoch 84/300\n",
      "10/10 [==============================] - 0s 4ms/step - loss: 0.2428 - accuracy: 0.9649 - val_loss: 0.1878 - val_accuracy: 1.0000\n",
      "Epoch 85/300\n",
      "10/10 [==============================] - 0s 3ms/step - loss: 0.2474 - accuracy: 0.9742 - val_loss: 0.1812 - val_accuracy: 1.0000\n",
      "Epoch 86/300\n",
      "10/10 [==============================] - 0s 3ms/step - loss: 0.2800 - accuracy: 0.9289 - val_loss: 0.1683 - val_accuracy: 0.9583\n",
      "Epoch 87/300\n",
      "10/10 [==============================] - 0s 4ms/step - loss: 0.2856 - accuracy: 0.9048 - val_loss: 0.1753 - val_accuracy: 1.0000\n",
      "Epoch 88/300\n",
      "10/10 [==============================] - 0s 3ms/step - loss: 0.1819 - accuracy: 0.9872 - val_loss: 0.1630 - val_accuracy: 1.0000\n",
      "Epoch 89/300\n",
      "10/10 [==============================] - 0s 3ms/step - loss: 0.1901 - accuracy: 0.9673 - val_loss: 0.1595 - val_accuracy: 1.0000\n",
      "Epoch 90/300\n",
      "10/10 [==============================] - 0s 3ms/step - loss: 0.2237 - accuracy: 0.9404 - val_loss: 0.1646 - val_accuracy: 1.0000\n",
      "Epoch 91/300\n",
      "10/10 [==============================] - 0s 4ms/step - loss: 0.2320 - accuracy: 0.9452 - val_loss: 0.1600 - val_accuracy: 1.0000\n",
      "Epoch 92/300\n",
      "10/10 [==============================] - 0s 3ms/step - loss: 0.2213 - accuracy: 0.9744 - val_loss: 0.1498 - val_accuracy: 1.0000\n",
      "Epoch 93/300\n",
      "10/10 [==============================] - 0s 3ms/step - loss: 0.2098 - accuracy: 0.9838 - val_loss: 0.1547 - val_accuracy: 1.0000\n",
      "Epoch 94/300\n",
      "10/10 [==============================] - 0s 3ms/step - loss: 0.2206 - accuracy: 0.9720 - val_loss: 0.1489 - val_accuracy: 1.0000\n",
      "Epoch 95/300\n",
      "10/10 [==============================] - 0s 4ms/step - loss: 0.2041 - accuracy: 0.9762 - val_loss: 0.1453 - val_accuracy: 1.0000\n",
      "Epoch 96/300\n",
      "10/10 [==============================] - 0s 4ms/step - loss: 0.2000 - accuracy: 0.9738 - val_loss: 0.1370 - val_accuracy: 1.0000\n",
      "Epoch 97/300\n",
      "10/10 [==============================] - 0s 3ms/step - loss: 0.2044 - accuracy: 0.9532 - val_loss: 0.1359 - val_accuracy: 1.0000\n",
      "Epoch 98/300\n",
      "10/10 [==============================] - 0s 3ms/step - loss: 0.1939 - accuracy: 0.9793 - val_loss: 0.1348 - val_accuracy: 1.0000\n",
      "Epoch 99/300\n",
      "10/10 [==============================] - 0s 4ms/step - loss: 0.2089 - accuracy: 0.9521 - val_loss: 0.1382 - val_accuracy: 1.0000\n",
      "Epoch 100/300\n",
      "10/10 [==============================] - 0s 3ms/step - loss: 0.2047 - accuracy: 0.9728 - val_loss: 0.1256 - val_accuracy: 1.0000\n",
      "Epoch 101/300\n",
      "10/10 [==============================] - 0s 3ms/step - loss: 0.2298 - accuracy: 0.9498 - val_loss: 0.1278 - val_accuracy: 1.0000\n",
      "Epoch 102/300\n",
      "10/10 [==============================] - 0s 3ms/step - loss: 0.1622 - accuracy: 0.9923 - val_loss: 0.1215 - val_accuracy: 1.0000\n",
      "Epoch 103/300\n",
      "10/10 [==============================] - 0s 4ms/step - loss: 0.1743 - accuracy: 0.9700 - val_loss: 0.1187 - val_accuracy: 1.0000\n",
      "Epoch 104/300\n",
      "10/10 [==============================] - 0s 4ms/step - loss: 0.1876 - accuracy: 0.9732 - val_loss: 0.1280 - val_accuracy: 1.0000\n",
      "Epoch 105/300\n",
      "10/10 [==============================] - 0s 3ms/step - loss: 0.1677 - accuracy: 0.9503 - val_loss: 0.1135 - val_accuracy: 1.0000\n",
      "Epoch 106/300\n",
      "10/10 [==============================] - 0s 3ms/step - loss: 0.1958 - accuracy: 0.9611 - val_loss: 0.1167 - val_accuracy: 1.0000\n",
      "Epoch 107/300\n",
      "10/10 [==============================] - 0s 4ms/step - loss: 0.1715 - accuracy: 0.9651 - val_loss: 0.1049 - val_accuracy: 1.0000\n",
      "Epoch 108/300\n",
      "10/10 [==============================] - 0s 3ms/step - loss: 0.1679 - accuracy: 0.9687 - val_loss: 0.1097 - val_accuracy: 1.0000\n",
      "Epoch 109/300\n",
      "10/10 [==============================] - 0s 3ms/step - loss: 0.1586 - accuracy: 0.9757 - val_loss: 0.1141 - val_accuracy: 1.0000\n",
      "Epoch 110/300\n",
      "10/10 [==============================] - 0s 3ms/step - loss: 0.1556 - accuracy: 0.9752 - val_loss: 0.1052 - val_accuracy: 1.0000\n",
      "Epoch 111/300\n",
      "10/10 [==============================] - 0s 3ms/step - loss: 0.1847 - accuracy: 0.9528 - val_loss: 0.1008 - val_accuracy: 1.0000\n",
      "Epoch 112/300\n",
      "10/10 [==============================] - 0s 4ms/step - loss: 0.1754 - accuracy: 0.9585 - val_loss: 0.1031 - val_accuracy: 1.0000\n",
      "Epoch 113/300\n",
      "10/10 [==============================] - 0s 4ms/step - loss: 0.1827 - accuracy: 0.9497 - val_loss: 0.1017 - val_accuracy: 1.0000\n",
      "Epoch 114/300\n",
      "10/10 [==============================] - 0s 3ms/step - loss: 0.1420 - accuracy: 0.9818 - val_loss: 0.0937 - val_accuracy: 1.0000\n",
      "Epoch 115/300\n",
      "10/10 [==============================] - 0s 3ms/step - loss: 0.1603 - accuracy: 0.9720 - val_loss: 0.1054 - val_accuracy: 1.0000\n",
      "Epoch 116/300\n",
      "10/10 [==============================] - 0s 3ms/step - loss: 0.1299 - accuracy: 0.9762 - val_loss: 0.0978 - val_accuracy: 1.0000\n",
      "Epoch 117/300\n",
      "10/10 [==============================] - 0s 3ms/step - loss: 0.1574 - accuracy: 0.9652 - val_loss: 0.0895 - val_accuracy: 1.0000\n",
      "Epoch 118/300\n",
      "10/10 [==============================] - 0s 4ms/step - loss: 0.1575 - accuracy: 0.9717 - val_loss: 0.0922 - val_accuracy: 1.0000\n",
      "Epoch 119/300\n",
      "10/10 [==============================] - 0s 4ms/step - loss: 0.1562 - accuracy: 0.9762 - val_loss: 0.0976 - val_accuracy: 1.0000\n",
      "Epoch 120/300\n",
      "10/10 [==============================] - 0s 4ms/step - loss: 0.1266 - accuracy: 0.9902 - val_loss: 0.0830 - val_accuracy: 1.0000\n",
      "Epoch 121/300\n",
      "10/10 [==============================] - 0s 3ms/step - loss: 0.1337 - accuracy: 0.9872 - val_loss: 0.0853 - val_accuracy: 1.0000\n",
      "Epoch 122/300\n",
      "10/10 [==============================] - 0s 4ms/step - loss: 0.1328 - accuracy: 0.9703 - val_loss: 0.1044 - val_accuracy: 1.0000\n",
      "Epoch 123/300\n",
      "10/10 [==============================] - 0s 4ms/step - loss: 0.1269 - accuracy: 0.9647 - val_loss: 0.0809 - val_accuracy: 1.0000\n",
      "Epoch 124/300\n",
      "10/10 [==============================] - 0s 3ms/step - loss: 0.1261 - accuracy: 0.9887 - val_loss: 0.0801 - val_accuracy: 1.0000\n",
      "Epoch 125/300\n",
      "10/10 [==============================] - 0s 3ms/step - loss: 0.1280 - accuracy: 0.9818 - val_loss: 0.0821 - val_accuracy: 1.0000\n",
      "Epoch 126/300\n",
      "10/10 [==============================] - 0s 4ms/step - loss: 0.1372 - accuracy: 0.9705 - val_loss: 0.0780 - val_accuracy: 1.0000\n",
      "Epoch 127/300\n",
      "10/10 [==============================] - 0s 4ms/step - loss: 0.1503 - accuracy: 0.9619 - val_loss: 0.0770 - val_accuracy: 1.0000\n",
      "Epoch 128/300\n",
      "10/10 [==============================] - 0s 3ms/step - loss: 0.1147 - accuracy: 0.9883 - val_loss: 0.0775 - val_accuracy: 1.0000\n",
      "Epoch 129/300\n",
      "10/10 [==============================] - 0s 4ms/step - loss: 0.1073 - accuracy: 0.9791 - val_loss: 0.0790 - val_accuracy: 1.0000\n",
      "Epoch 130/300\n",
      "10/10 [==============================] - 0s 3ms/step - loss: 0.1048 - accuracy: 0.9912 - val_loss: 0.0725 - val_accuracy: 1.0000\n",
      "Epoch 131/300\n",
      "10/10 [==============================] - 0s 3ms/step - loss: 0.1908 - accuracy: 0.9263 - val_loss: 0.0740 - val_accuracy: 1.0000\n",
      "Epoch 132/300\n",
      "10/10 [==============================] - 0s 3ms/step - loss: 0.1101 - accuracy: 0.9889 - val_loss: 0.0712 - val_accuracy: 1.0000\n",
      "Epoch 133/300\n",
      "10/10 [==============================] - 0s 4ms/step - loss: 0.1451 - accuracy: 0.9497 - val_loss: 0.0710 - val_accuracy: 1.0000\n",
      "Epoch 134/300\n",
      "10/10 [==============================] - 0s 4ms/step - loss: 0.1181 - accuracy: 0.9722 - val_loss: 0.0722 - val_accuracy: 1.0000\n",
      "Epoch 135/300\n",
      "10/10 [==============================] - 0s 3ms/step - loss: 0.1211 - accuracy: 0.9791 - val_loss: 0.0681 - val_accuracy: 1.0000\n",
      "Epoch 136/300\n",
      "10/10 [==============================] - 0s 4ms/step - loss: 0.1282 - accuracy: 0.9791 - val_loss: 0.0681 - val_accuracy: 1.0000\n",
      "Epoch 137/300\n",
      "10/10 [==============================] - 0s 4ms/step - loss: 0.1169 - accuracy: 0.9841 - val_loss: 0.0675 - val_accuracy: 1.0000\n",
      "Epoch 138/300\n",
      "10/10 [==============================] - 0s 4ms/step - loss: 0.1359 - accuracy: 0.9561 - val_loss: 0.0682 - val_accuracy: 1.0000\n",
      "Epoch 139/300\n",
      "10/10 [==============================] - 0s 3ms/step - loss: 0.1218 - accuracy: 0.9652 - val_loss: 0.0660 - val_accuracy: 1.0000\n",
      "Epoch 140/300\n",
      "10/10 [==============================] - 0s 3ms/step - loss: 0.1544 - accuracy: 0.9510 - val_loss: 0.0635 - val_accuracy: 1.0000\n",
      "Epoch 141/300\n",
      "10/10 [==============================] - 0s 3ms/step - loss: 0.1389 - accuracy: 0.9566 - val_loss: 0.0649 - val_accuracy: 1.0000\n",
      "Epoch 142/300\n",
      "10/10 [==============================] - 0s 4ms/step - loss: 0.1276 - accuracy: 0.9676 - val_loss: 0.0601 - val_accuracy: 1.0000\n",
      "Epoch 143/300\n",
      "10/10 [==============================] - 0s 3ms/step - loss: 0.1168 - accuracy: 0.9717 - val_loss: 0.0626 - val_accuracy: 1.0000\n",
      "Epoch 144/300\n",
      "10/10 [==============================] - 0s 4ms/step - loss: 0.1230 - accuracy: 0.9676 - val_loss: 0.0592 - val_accuracy: 1.0000\n",
      "Epoch 145/300\n",
      "10/10 [==============================] - 0s 3ms/step - loss: 0.0971 - accuracy: 0.9913 - val_loss: 0.0579 - val_accuracy: 1.0000\n",
      "Epoch 146/300\n",
      "10/10 [==============================] - 0s 4ms/step - loss: 0.1328 - accuracy: 0.9665 - val_loss: 0.0641 - val_accuracy: 1.0000\n",
      "Epoch 147/300\n",
      "10/10 [==============================] - 0s 4ms/step - loss: 0.1161 - accuracy: 0.9875 - val_loss: 0.0576 - val_accuracy: 1.0000\n",
      "Epoch 148/300\n",
      "10/10 [==============================] - 0s 3ms/step - loss: 0.1030 - accuracy: 0.9906 - val_loss: 0.0556 - val_accuracy: 1.0000\n",
      "Epoch 149/300\n",
      "10/10 [==============================] - 0s 3ms/step - loss: 0.1025 - accuracy: 0.9808 - val_loss: 0.0589 - val_accuracy: 1.0000\n",
      "Epoch 150/300\n",
      "10/10 [==============================] - 0s 4ms/step - loss: 0.0882 - accuracy: 0.9851 - val_loss: 0.0583 - val_accuracy: 1.0000\n",
      "Epoch 151/300\n",
      "10/10 [==============================] - 0s 3ms/step - loss: 0.1148 - accuracy: 0.9902 - val_loss: 0.0524 - val_accuracy: 1.0000\n",
      "Epoch 152/300\n",
      "10/10 [==============================] - 0s 3ms/step - loss: 0.1011 - accuracy: 0.9753 - val_loss: 0.0562 - val_accuracy: 1.0000\n",
      "Epoch 153/300\n",
      "10/10 [==============================] - 0s 4ms/step - loss: 0.1325 - accuracy: 0.9597 - val_loss: 0.0539 - val_accuracy: 1.0000\n",
      "Epoch 154/300\n",
      "10/10 [==============================] - 0s 4ms/step - loss: 0.0916 - accuracy: 0.9918 - val_loss: 0.0491 - val_accuracy: 1.0000\n",
      "Epoch 155/300\n",
      "10/10 [==============================] - 0s 4ms/step - loss: 0.1081 - accuracy: 0.9793 - val_loss: 0.0547 - val_accuracy: 1.0000\n",
      "Epoch 156/300\n",
      "10/10 [==============================] - 0s 3ms/step - loss: 0.1269 - accuracy: 0.9510 - val_loss: 0.0541 - val_accuracy: 1.0000\n",
      "Epoch 157/300\n",
      "10/10 [==============================] - 0s 3ms/step - loss: 0.0898 - accuracy: 0.9826 - val_loss: 0.0483 - val_accuracy: 1.0000\n",
      "Epoch 158/300\n",
      "10/10 [==============================] - 0s 4ms/step - loss: 0.1243 - accuracy: 0.9860 - val_loss: 0.0511 - val_accuracy: 1.0000\n",
      "Epoch 159/300\n",
      "10/10 [==============================] - 0s 4ms/step - loss: 0.0953 - accuracy: 0.9873 - val_loss: 0.0525 - val_accuracy: 1.0000\n",
      "Epoch 160/300\n",
      "10/10 [==============================] - 0s 3ms/step - loss: 0.1213 - accuracy: 0.9664 - val_loss: 0.0509 - val_accuracy: 1.0000\n",
      "Epoch 161/300\n",
      "10/10 [==============================] - 0s 3ms/step - loss: 0.1190 - accuracy: 0.9652 - val_loss: 0.0473 - val_accuracy: 1.0000\n",
      "Epoch 162/300\n",
      "10/10 [==============================] - 0s 4ms/step - loss: 0.0882 - accuracy: 0.9744 - val_loss: 0.0445 - val_accuracy: 1.0000\n",
      "Epoch 163/300\n",
      "10/10 [==============================] - 0s 3ms/step - loss: 0.1229 - accuracy: 0.9641 - val_loss: 0.0458 - val_accuracy: 1.0000\n",
      "Epoch 164/300\n",
      "10/10 [==============================] - 0s 3ms/step - loss: 0.1333 - accuracy: 0.9528 - val_loss: 0.0463 - val_accuracy: 1.0000\n",
      "Epoch 165/300\n",
      "10/10 [==============================] - 0s 4ms/step - loss: 0.1098 - accuracy: 0.9705 - val_loss: 0.0467 - val_accuracy: 1.0000\n",
      "Epoch 166/300\n",
      "10/10 [==============================] - 0s 4ms/step - loss: 0.0950 - accuracy: 0.9831 - val_loss: 0.0427 - val_accuracy: 1.0000\n",
      "Epoch 167/300\n",
      "10/10 [==============================] - 0s 3ms/step - loss: 0.1116 - accuracy: 0.9688 - val_loss: 0.0525 - val_accuracy: 1.0000\n",
      "Epoch 168/300\n",
      "10/10 [==============================] - 0s 3ms/step - loss: 0.1205 - accuracy: 0.9763 - val_loss: 0.0421 - val_accuracy: 1.0000\n",
      "Epoch 169/300\n",
      "10/10 [==============================] - 0s 3ms/step - loss: 0.0782 - accuracy: 0.9928 - val_loss: 0.0419 - val_accuracy: 1.0000\n",
      "Epoch 170/300\n",
      "10/10 [==============================] - 0s 3ms/step - loss: 0.1055 - accuracy: 0.9744 - val_loss: 0.0465 - val_accuracy: 1.0000\n",
      "Epoch 171/300\n",
      "10/10 [==============================] - 0s 3ms/step - loss: 0.1384 - accuracy: 0.9646 - val_loss: 0.0467 - val_accuracy: 1.0000\n",
      "Epoch 172/300\n",
      "10/10 [==============================] - 0s 3ms/step - loss: 0.1011 - accuracy: 0.9791 - val_loss: 0.0408 - val_accuracy: 1.0000\n",
      "Epoch 173/300\n"
     ]
    },
    {
     "name": "stdout",
     "output_type": "stream",
     "text": [
      "10/10 [==============================] - 0s 3ms/step - loss: 0.0767 - accuracy: 0.9952 - val_loss: 0.0390 - val_accuracy: 1.0000\n",
      "Epoch 174/300\n",
      "10/10 [==============================] - 0s 3ms/step - loss: 0.1118 - accuracy: 0.9682 - val_loss: 0.0490 - val_accuracy: 1.0000\n",
      "Epoch 175/300\n",
      "10/10 [==============================] - 0s 3ms/step - loss: 0.0850 - accuracy: 0.9862 - val_loss: 0.0393 - val_accuracy: 1.0000\n",
      "Epoch 176/300\n",
      "10/10 [==============================] - 0s 3ms/step - loss: 0.0815 - accuracy: 0.9884 - val_loss: 0.0390 - val_accuracy: 1.0000\n",
      "Epoch 177/300\n",
      "10/10 [==============================] - 0s 3ms/step - loss: 0.0872 - accuracy: 0.9784 - val_loss: 0.0406 - val_accuracy: 1.0000\n",
      "Epoch 178/300\n",
      "10/10 [==============================] - 0s 3ms/step - loss: 0.0801 - accuracy: 0.9831 - val_loss: 0.0401 - val_accuracy: 1.0000\n",
      "Epoch 179/300\n",
      "10/10 [==============================] - 0s 3ms/step - loss: 0.0974 - accuracy: 0.9738 - val_loss: 0.0389 - val_accuracy: 1.0000\n",
      "Epoch 180/300\n",
      "10/10 [==============================] - 0s 4ms/step - loss: 0.0919 - accuracy: 0.9738 - val_loss: 0.0368 - val_accuracy: 1.0000\n",
      "Epoch 181/300\n",
      "10/10 [==============================] - 0s 4ms/step - loss: 0.1472 - accuracy: 0.9470 - val_loss: 0.0389 - val_accuracy: 1.0000\n",
      "Epoch 182/300\n",
      "10/10 [==============================] - 0s 3ms/step - loss: 0.0611 - accuracy: 0.9887 - val_loss: 0.0369 - val_accuracy: 1.0000\n",
      "Epoch 183/300\n",
      "10/10 [==============================] - 0s 3ms/step - loss: 0.1050 - accuracy: 0.9735 - val_loss: 0.0380 - val_accuracy: 1.0000\n",
      "Epoch 184/300\n",
      "10/10 [==============================] - 0s 4ms/step - loss: 0.0872 - accuracy: 0.9722 - val_loss: 0.0372 - val_accuracy: 1.0000\n",
      "Epoch 185/300\n",
      "10/10 [==============================] - 0s 4ms/step - loss: 0.0770 - accuracy: 0.9864 - val_loss: 0.0365 - val_accuracy: 1.0000\n",
      "Epoch 186/300\n",
      "10/10 [==============================] - 0s 4ms/step - loss: 0.0934 - accuracy: 0.9773 - val_loss: 0.0349 - val_accuracy: 1.0000\n",
      "Epoch 187/300\n",
      "10/10 [==============================] - 0s 4ms/step - loss: 0.1183 - accuracy: 0.9682 - val_loss: 0.0349 - val_accuracy: 1.0000\n",
      "Epoch 188/300\n",
      "10/10 [==============================] - 0s 3ms/step - loss: 0.1220 - accuracy: 0.9429 - val_loss: 0.0345 - val_accuracy: 1.0000\n",
      "Epoch 189/300\n",
      "10/10 [==============================] - 0s 3ms/step - loss: 0.0829 - accuracy: 0.9636 - val_loss: 0.0332 - val_accuracy: 1.0000\n",
      "Epoch 190/300\n",
      "10/10 [==============================] - 0s 3ms/step - loss: 0.0965 - accuracy: 0.9733 - val_loss: 0.0383 - val_accuracy: 1.0000\n",
      "Epoch 191/300\n",
      "10/10 [==============================] - 0s 4ms/step - loss: 0.0967 - accuracy: 0.9766 - val_loss: 0.0347 - val_accuracy: 1.0000\n",
      "Epoch 192/300\n",
      "10/10 [==============================] - 0s 2ms/step - loss: 0.0929 - accuracy: 0.9622 - val_loss: 0.0340 - val_accuracy: 1.0000\n",
      "Epoch 193/300\n",
      "10/10 [==============================] - 0s 2ms/step - loss: 0.0867 - accuracy: 0.9728 - val_loss: 0.0320 - val_accuracy: 1.0000\n",
      "Epoch 194/300\n",
      "10/10 [==============================] - 0s 2ms/step - loss: 0.1392 - accuracy: 0.9470 - val_loss: 0.0318 - val_accuracy: 1.0000\n",
      "Epoch 195/300\n",
      "10/10 [==============================] - 0s 2ms/step - loss: 0.1548 - accuracy: 0.9429 - val_loss: 0.0329 - val_accuracy: 1.0000\n",
      "Epoch 196/300\n",
      "10/10 [==============================] - 0s 2ms/step - loss: 0.1194 - accuracy: 0.9475 - val_loss: 0.0335 - val_accuracy: 1.0000\n",
      "Epoch 197/300\n",
      "10/10 [==============================] - 0s 2ms/step - loss: 0.1171 - accuracy: 0.9637 - val_loss: 0.0301 - val_accuracy: 1.0000\n",
      "Epoch 198/300\n",
      "10/10 [==============================] - 0s 2ms/step - loss: 0.0901 - accuracy: 0.9822 - val_loss: 0.0309 - val_accuracy: 1.0000\n",
      "Epoch 199/300\n",
      "10/10 [==============================] - 0s 2ms/step - loss: 0.0807 - accuracy: 0.9775 - val_loss: 0.0307 - val_accuracy: 1.0000\n",
      "Epoch 200/300\n",
      "10/10 [==============================] - 0s 2ms/step - loss: 0.0871 - accuracy: 0.9758 - val_loss: 0.0326 - val_accuracy: 1.0000\n",
      "Epoch 201/300\n",
      "10/10 [==============================] - 0s 2ms/step - loss: 0.1337 - accuracy: 0.9353 - val_loss: 0.0316 - val_accuracy: 1.0000\n",
      "Epoch 202/300\n",
      "10/10 [==============================] - 0s 2ms/step - loss: 0.0767 - accuracy: 0.9893 - val_loss: 0.0284 - val_accuracy: 1.0000\n",
      "Epoch 203/300\n",
      "10/10 [==============================] - 0s 4ms/step - loss: 0.0683 - accuracy: 0.9902 - val_loss: 0.0290 - val_accuracy: 1.0000\n",
      "Epoch 204/300\n",
      "10/10 [==============================] - 0s 3ms/step - loss: 0.1074 - accuracy: 0.9611 - val_loss: 0.0340 - val_accuracy: 1.0000\n",
      "Epoch 205/300\n",
      "10/10 [==============================] - 0s 4ms/step - loss: 0.0905 - accuracy: 0.9744 - val_loss: 0.0314 - val_accuracy: 1.0000\n",
      "Epoch 206/300\n",
      "10/10 [==============================] - 0s 4ms/step - loss: 0.1084 - accuracy: 0.9655 - val_loss: 0.0273 - val_accuracy: 1.0000\n",
      "Epoch 207/300\n",
      "10/10 [==============================] - 0s 4ms/step - loss: 0.0877 - accuracy: 0.9796 - val_loss: 0.0274 - val_accuracy: 1.0000\n",
      "Epoch 208/300\n",
      "10/10 [==============================] - 0s 4ms/step - loss: 0.1531 - accuracy: 0.9338 - val_loss: 0.0296 - val_accuracy: 1.0000\n",
      "Epoch 209/300\n",
      "10/10 [==============================] - 0s 4ms/step - loss: 0.1132 - accuracy: 0.9485 - val_loss: 0.0267 - val_accuracy: 1.0000\n",
      "Epoch 210/300\n",
      "10/10 [==============================] - 0s 4ms/step - loss: 0.0806 - accuracy: 0.9918 - val_loss: 0.0275 - val_accuracy: 1.0000\n",
      "Epoch 211/300\n",
      "10/10 [==============================] - 0s 3ms/step - loss: 0.0705 - accuracy: 0.9838 - val_loss: 0.0284 - val_accuracy: 1.0000\n",
      "Epoch 212/300\n",
      "10/10 [==============================] - 0s 3ms/step - loss: 0.0932 - accuracy: 0.9694 - val_loss: 0.0293 - val_accuracy: 1.0000\n",
      "Epoch 213/300\n",
      "10/10 [==============================] - 0s 3ms/step - loss: 0.1255 - accuracy: 0.9516 - val_loss: 0.0281 - val_accuracy: 1.0000\n",
      "Epoch 214/300\n",
      "10/10 [==============================] - 0s 4ms/step - loss: 0.1146 - accuracy: 0.9561 - val_loss: 0.0268 - val_accuracy: 1.0000\n",
      "Epoch 215/300\n",
      "10/10 [==============================] - 0s 3ms/step - loss: 0.0566 - accuracy: 0.9931 - val_loss: 0.0248 - val_accuracy: 1.0000\n",
      "Epoch 216/300\n",
      "10/10 [==============================] - 0s 3ms/step - loss: 0.0655 - accuracy: 0.9941 - val_loss: 0.0261 - val_accuracy: 1.0000\n",
      "Epoch 217/300\n",
      "10/10 [==============================] - 0s 3ms/step - loss: 0.0741 - accuracy: 0.9750 - val_loss: 0.0299 - val_accuracy: 1.0000\n",
      "Epoch 218/300\n",
      "10/10 [==============================] - 0s 3ms/step - loss: 0.1059 - accuracy: 0.9561 - val_loss: 0.0255 - val_accuracy: 1.0000\n",
      "Epoch 219/300\n",
      "10/10 [==============================] - 0s 4ms/step - loss: 0.0971 - accuracy: 0.9761 - val_loss: 0.0242 - val_accuracy: 1.0000\n",
      "Epoch 220/300\n",
      "10/10 [==============================] - 0s 4ms/step - loss: 0.0743 - accuracy: 0.9878 - val_loss: 0.0255 - val_accuracy: 1.0000\n",
      "Epoch 221/300\n",
      "10/10 [==============================] - 0s 3ms/step - loss: 0.0661 - accuracy: 0.9745 - val_loss: 0.0252 - val_accuracy: 1.0000\n",
      "Epoch 222/300\n",
      "10/10 [==============================] - 0s 3ms/step - loss: 0.0764 - accuracy: 0.9733 - val_loss: 0.0256 - val_accuracy: 1.0000\n",
      "Epoch 223/300\n",
      "10/10 [==============================] - 0s 3ms/step - loss: 0.0994 - accuracy: 0.9576 - val_loss: 0.0253 - val_accuracy: 1.0000\n",
      "Epoch 224/300\n",
      "10/10 [==============================] - 0s 3ms/step - loss: 0.0824 - accuracy: 0.9676 - val_loss: 0.0236 - val_accuracy: 1.0000\n",
      "Epoch 225/300\n",
      "10/10 [==============================] - 0s 3ms/step - loss: 0.0896 - accuracy: 0.9732 - val_loss: 0.0252 - val_accuracy: 1.0000\n",
      "Epoch 226/300\n",
      "10/10 [==============================] - 0s 4ms/step - loss: 0.0836 - accuracy: 0.9755 - val_loss: 0.0272 - val_accuracy: 1.0000\n",
      "Epoch 227/300\n",
      "10/10 [==============================] - 0s 3ms/step - loss: 0.1116 - accuracy: 0.9637 - val_loss: 0.0229 - val_accuracy: 1.0000\n",
      "Epoch 228/300\n",
      "10/10 [==============================] - 0s 4ms/step - loss: 0.0663 - accuracy: 0.9941 - val_loss: 0.0218 - val_accuracy: 1.0000\n",
      "Epoch 229/300\n",
      "10/10 [==============================] - 0s 4ms/step - loss: 0.0912 - accuracy: 0.9744 - val_loss: 0.0270 - val_accuracy: 1.0000\n",
      "Epoch 230/300\n",
      "10/10 [==============================] - 0s 2ms/step - loss: 0.0765 - accuracy: 0.9834 - val_loss: 0.0232 - val_accuracy: 1.0000\n",
      "Epoch 231/300\n",
      "10/10 [==============================] - 0s 3ms/step - loss: 0.0731 - accuracy: 0.9816 - val_loss: 0.0224 - val_accuracy: 1.0000\n",
      "Epoch 232/300\n",
      "10/10 [==============================] - 0s 5ms/step - loss: 0.0711 - accuracy: 0.9804 - val_loss: 0.0250 - val_accuracy: 1.0000\n",
      "Epoch 233/300\n",
      "10/10 [==============================] - 0s 4ms/step - loss: 0.0784 - accuracy: 0.9788 - val_loss: 0.0224 - val_accuracy: 1.0000\n",
      "Epoch 234/300\n",
      "10/10 [==============================] - 0s 4ms/step - loss: 0.1002 - accuracy: 0.9636 - val_loss: 0.0230 - val_accuracy: 1.0000\n",
      "Epoch 235/300\n",
      "10/10 [==============================] - 0s 4ms/step - loss: 0.0652 - accuracy: 0.9874 - val_loss: 0.0230 - val_accuracy: 1.0000\n",
      "Epoch 236/300\n",
      "10/10 [==============================] - 0s 4ms/step - loss: 0.0934 - accuracy: 0.9744 - val_loss: 0.0256 - val_accuracy: 1.0000\n",
      "Epoch 237/300\n",
      "10/10 [==============================] - 0s 4ms/step - loss: 0.0872 - accuracy: 0.9778 - val_loss: 0.0226 - val_accuracy: 1.0000\n",
      "Epoch 238/300\n",
      "10/10 [==============================] - 0s 4ms/step - loss: 0.0823 - accuracy: 0.9841 - val_loss: 0.0203 - val_accuracy: 1.0000\n",
      "Epoch 239/300\n",
      "10/10 [==============================] - 0s 4ms/step - loss: 0.0990 - accuracy: 0.9709 - val_loss: 0.0243 - val_accuracy: 1.0000\n",
      "Epoch 240/300\n",
      "10/10 [==============================] - 0s 3ms/step - loss: 0.0979 - accuracy: 0.9693 - val_loss: 0.0210 - val_accuracy: 1.0000\n",
      "Epoch 241/300\n",
      "10/10 [==============================] - 0s 3ms/step - loss: 0.1022 - accuracy: 0.9555 - val_loss: 0.0211 - val_accuracy: 1.0000\n",
      "Epoch 242/300\n",
      "10/10 [==============================] - 0s 3ms/step - loss: 0.1400 - accuracy: 0.9338 - val_loss: 0.0207 - val_accuracy: 1.0000\n",
      "Epoch 243/300\n",
      "10/10 [==============================] - 0s 3ms/step - loss: 0.0701 - accuracy: 0.9837 - val_loss: 0.0205 - val_accuracy: 1.0000\n",
      "Epoch 244/300\n",
      "10/10 [==============================] - 0s 4ms/step - loss: 0.1091 - accuracy: 0.9728 - val_loss: 0.0207 - val_accuracy: 1.0000\n",
      "Epoch 245/300\n",
      "10/10 [==============================] - 0s 4ms/step - loss: 0.0888 - accuracy: 0.9893 - val_loss: 0.0198 - val_accuracy: 1.0000\n",
      "Epoch 246/300\n",
      "10/10 [==============================] - 0s 3ms/step - loss: 0.0931 - accuracy: 0.9804 - val_loss: 0.0232 - val_accuracy: 1.0000\n",
      "Epoch 247/300\n",
      "10/10 [==============================] - 0s 3ms/step - loss: 0.0911 - accuracy: 0.9773 - val_loss: 0.0206 - val_accuracy: 1.0000\n",
      "Epoch 248/300\n",
      "10/10 [==============================] - 0s 3ms/step - loss: 0.1167 - accuracy: 0.9394 - val_loss: 0.0188 - val_accuracy: 1.0000\n",
      "Epoch 249/300\n",
      "10/10 [==============================] - 0s 3ms/step - loss: 0.1206 - accuracy: 0.9614 - val_loss: 0.0196 - val_accuracy: 1.0000\n",
      "Epoch 250/300\n",
      "10/10 [==============================] - 0s 3ms/step - loss: 0.0724 - accuracy: 0.9884 - val_loss: 0.0192 - val_accuracy: 1.0000\n",
      "Epoch 251/300\n",
      "10/10 [==============================] - 0s 3ms/step - loss: 0.0985 - accuracy: 0.9781 - val_loss: 0.0198 - val_accuracy: 1.0000\n",
      "Epoch 252/300\n",
      "10/10 [==============================] - 0s 3ms/step - loss: 0.1147 - accuracy: 0.9561 - val_loss: 0.0206 - val_accuracy: 1.0000\n",
      "Epoch 253/300\n",
      "10/10 [==============================] - 0s 4ms/step - loss: 0.1018 - accuracy: 0.9520 - val_loss: 0.0190 - val_accuracy: 1.0000\n",
      "Epoch 254/300\n",
      "10/10 [==============================] - 0s 4ms/step - loss: 0.0787 - accuracy: 0.9727 - val_loss: 0.0191 - val_accuracy: 1.0000\n",
      "Epoch 255/300\n",
      "10/10 [==============================] - 0s 3ms/step - loss: 0.0603 - accuracy: 0.9913 - val_loss: 0.0193 - val_accuracy: 1.0000\n",
      "Epoch 256/300\n",
      "10/10 [==============================] - 0s 3ms/step - loss: 0.0954 - accuracy: 0.9520 - val_loss: 0.0209 - val_accuracy: 1.0000\n",
      "Epoch 257/300\n",
      "10/10 [==============================] - 0s 3ms/step - loss: 0.0969 - accuracy: 0.9606 - val_loss: 0.0242 - val_accuracy: 1.0000\n",
      "Epoch 258/300\n",
      "10/10 [==============================] - 0s 4ms/step - loss: 0.0882 - accuracy: 0.9763 - val_loss: 0.0181 - val_accuracy: 1.0000\n",
      "Epoch 259/300\n",
      "10/10 [==============================] - 0s 3ms/step - loss: 0.0716 - accuracy: 0.9878 - val_loss: 0.0173 - val_accuracy: 1.0000\n",
      "Epoch 260/300\n",
      "10/10 [==============================] - 0s 3ms/step - loss: 0.1153 - accuracy: 0.9574 - val_loss: 0.0190 - val_accuracy: 1.0000\n",
      "Epoch 261/300\n",
      "10/10 [==============================] - 0s 4ms/step - loss: 0.0496 - accuracy: 0.9919 - val_loss: 0.0175 - val_accuracy: 1.0000\n",
      "Epoch 262/300\n",
      "10/10 [==============================] - 0s 4ms/step - loss: 0.0543 - accuracy: 0.9913 - val_loss: 0.0179 - val_accuracy: 1.0000\n",
      "Epoch 263/300\n",
      "10/10 [==============================] - 0s 4ms/step - loss: 0.0979 - accuracy: 0.9751 - val_loss: 0.0215 - val_accuracy: 1.0000\n",
      "Epoch 264/300\n",
      "10/10 [==============================] - 0s 3ms/step - loss: 0.1124 - accuracy: 0.9574 - val_loss: 0.0182 - val_accuracy: 1.0000\n",
      "Epoch 265/300\n",
      "10/10 [==============================] - 0s 4ms/step - loss: 0.0719 - accuracy: 0.9778 - val_loss: 0.0182 - val_accuracy: 1.0000\n",
      "Epoch 266/300\n",
      "10/10 [==============================] - 0s 3ms/step - loss: 0.0687 - accuracy: 0.9778 - val_loss: 0.0166 - val_accuracy: 1.0000\n",
      "Epoch 267/300\n",
      "10/10 [==============================] - 0s 3ms/step - loss: 0.0653 - accuracy: 0.9850 - val_loss: 0.0181 - val_accuracy: 1.0000\n",
      "Epoch 268/300\n",
      "10/10 [==============================] - 0s 3ms/step - loss: 0.0820 - accuracy: 0.9587 - val_loss: 0.0182 - val_accuracy: 1.0000\n",
      "Epoch 269/300\n",
      "10/10 [==============================] - 0s 4ms/step - loss: 0.0825 - accuracy: 0.9722 - val_loss: 0.0190 - val_accuracy: 1.0000\n",
      "Epoch 270/300\n",
      "10/10 [==============================] - 0s 4ms/step - loss: 0.0842 - accuracy: 0.9717 - val_loss: 0.0165 - val_accuracy: 1.0000\n",
      "Epoch 271/300\n",
      "10/10 [==============================] - 0s 3ms/step - loss: 0.0692 - accuracy: 0.9878 - val_loss: 0.0164 - val_accuracy: 1.0000\n",
      "Epoch 272/300\n",
      "10/10 [==============================] - 0s 4ms/step - loss: 0.1047 - accuracy: 0.9746 - val_loss: 0.0176 - val_accuracy: 1.0000\n",
      "Epoch 273/300\n",
      "10/10 [==============================] - 0s 3ms/step - loss: 0.0867 - accuracy: 0.9611 - val_loss: 0.0195 - val_accuracy: 1.0000\n",
      "Epoch 274/300\n",
      "10/10 [==============================] - 0s 4ms/step - loss: 0.0887 - accuracy: 0.9641 - val_loss: 0.0168 - val_accuracy: 1.0000\n",
      "Epoch 275/300\n",
      "10/10 [==============================] - 0s 3ms/step - loss: 0.0806 - accuracy: 0.9862 - val_loss: 0.0153 - val_accuracy: 1.0000\n",
      "Epoch 276/300\n",
      "10/10 [==============================] - 0s 3ms/step - loss: 0.0561 - accuracy: 0.9913 - val_loss: 0.0162 - val_accuracy: 1.0000\n",
      "Epoch 277/300\n",
      "10/10 [==============================] - 0s 3ms/step - loss: 0.0890 - accuracy: 0.9652 - val_loss: 0.0204 - val_accuracy: 1.0000\n",
      "Epoch 278/300\n",
      "10/10 [==============================] - 0s 4ms/step - loss: 0.0499 - accuracy: 0.9819 - val_loss: 0.0170 - val_accuracy: 1.0000\n",
      "Epoch 279/300\n",
      "10/10 [==============================] - 0s 3ms/step - loss: 0.1041 - accuracy: 0.9544 - val_loss: 0.0152 - val_accuracy: 1.0000\n",
      "Epoch 280/300\n",
      "10/10 [==============================] - 0s 4ms/step - loss: 0.1116 - accuracy: 0.9637 - val_loss: 0.0167 - val_accuracy: 1.0000\n",
      "Epoch 281/300\n",
      "10/10 [==============================] - 0s 4ms/step - loss: 0.0599 - accuracy: 0.9751 - val_loss: 0.0153 - val_accuracy: 1.0000\n",
      "Epoch 282/300\n",
      "10/10 [==============================] - 0s 3ms/step - loss: 0.1076 - accuracy: 0.9587 - val_loss: 0.0168 - val_accuracy: 1.0000\n",
      "Epoch 283/300\n",
      "10/10 [==============================] - 0s 3ms/step - loss: 0.0690 - accuracy: 0.9733 - val_loss: 0.0157 - val_accuracy: 1.0000\n",
      "Epoch 284/300\n",
      "10/10 [==============================] - 0s 3ms/step - loss: 0.0610 - accuracy: 0.9919 - val_loss: 0.0148 - val_accuracy: 1.0000\n",
      "Epoch 285/300\n",
      "10/10 [==============================] - 0s 4ms/step - loss: 0.0739 - accuracy: 0.9705 - val_loss: 0.0169 - val_accuracy: 1.0000\n",
      "Epoch 286/300\n",
      "10/10 [==============================] - 0s 4ms/step - loss: 0.0826 - accuracy: 0.9687 - val_loss: 0.0165 - val_accuracy: 1.0000\n",
      "Epoch 287/300\n"
     ]
    },
    {
     "name": "stdout",
     "output_type": "stream",
     "text": [
      "10/10 [==============================] - 0s 4ms/step - loss: 0.0791 - accuracy: 0.9845 - val_loss: 0.0147 - val_accuracy: 1.0000\n",
      "Epoch 288/300\n",
      "10/10 [==============================] - 0s 3ms/step - loss: 0.1120 - accuracy: 0.9565 - val_loss: 0.0161 - val_accuracy: 1.0000\n",
      "Epoch 289/300\n",
      "10/10 [==============================] - 0s 3ms/step - loss: 0.0824 - accuracy: 0.9792 - val_loss: 0.0146 - val_accuracy: 1.0000\n",
      "Epoch 290/300\n",
      "10/10 [==============================] - 0s 4ms/step - loss: 0.0979 - accuracy: 0.9655 - val_loss: 0.0149 - val_accuracy: 1.0000\n",
      "Epoch 291/300\n",
      "10/10 [==============================] - 0s 3ms/step - loss: 0.0870 - accuracy: 0.9746 - val_loss: 0.0147 - val_accuracy: 1.0000\n",
      "Epoch 292/300\n",
      "10/10 [==============================] - 0s 3ms/step - loss: 0.0675 - accuracy: 0.9791 - val_loss: 0.0152 - val_accuracy: 1.0000\n",
      "Epoch 293/300\n",
      "10/10 [==============================] - 0s 3ms/step - loss: 0.0822 - accuracy: 0.9822 - val_loss: 0.0141 - val_accuracy: 1.0000\n",
      "Epoch 294/300\n",
      "10/10 [==============================] - 0s 4ms/step - loss: 0.0882 - accuracy: 0.9705 - val_loss: 0.0144 - val_accuracy: 1.0000\n",
      "Epoch 295/300\n",
      "10/10 [==============================] - 0s 3ms/step - loss: 0.0508 - accuracy: 0.9913 - val_loss: 0.0142 - val_accuracy: 1.0000\n",
      "Epoch 296/300\n",
      "10/10 [==============================] - 0s 4ms/step - loss: 0.0707 - accuracy: 0.9863 - val_loss: 0.0156 - val_accuracy: 1.0000\n",
      "Epoch 297/300\n",
      "10/10 [==============================] - 0s 3ms/step - loss: 0.0824 - accuracy: 0.9721 - val_loss: 0.0166 - val_accuracy: 1.0000\n",
      "Epoch 298/300\n",
      "10/10 [==============================] - 0s 3ms/step - loss: 0.1036 - accuracy: 0.9444 - val_loss: 0.0148 - val_accuracy: 1.0000\n",
      "Epoch 299/300\n",
      "10/10 [==============================] - 0s 3ms/step - loss: 0.0522 - accuracy: 0.9918 - val_loss: 0.0132 - val_accuracy: 1.0000\n",
      "Epoch 300/300\n",
      "10/10 [==============================] - 0s 4ms/step - loss: 0.0989 - accuracy: 0.9670 - val_loss: 0.0141 - val_accuracy: 1.0000\n"
     ]
    }
   ],
   "source": [
    "m=model.fit(X_train,y_train, epochs=300, batch_size=10, validation_split=0.2)"
   ]
  },
  {
   "cell_type": "code",
   "execution_count": null,
   "metadata": {},
   "outputs": [],
   "source": []
  },
  {
   "cell_type": "code",
   "execution_count": null,
   "metadata": {},
   "outputs": [],
   "source": []
  },
  {
   "cell_type": "code",
   "execution_count": 74,
   "metadata": {
    "colab": {},
    "colab_type": "code",
    "id": "_RpFWHtSnAqi"
   },
   "outputs": [
    {
     "data": {
      "text/plain": [
       "[<matplotlib.lines.Line2D at 0x7f97f0911ba8>]"
      ]
     },
     "execution_count": 74,
     "metadata": {},
     "output_type": "execute_result"
    },
    {
     "data": {
      "image/png": "[encoded data removed]",
      "text/plain": [
       "<Figure size 432x288 with 1 Axes>"
      ]
     },
     "metadata": {
      "needs_background": "light"
     },
     "output_type": "display_data"
    }
   ],
   "source": [
    "import matplotlib.pyplot as plt\n",
    "plt.plot(m.history['loss'])\n",
    "plt.plot(m.history['val_loss'])"
   ]
  },
  {
   "cell_type": "code",
   "execution_count": 75,
   "metadata": {},
   "outputs": [
    {
     "data": {
      "text/plain": [
       "[<matplotlib.lines.Line2D at 0x7f97f06af9e8>]"
      ]
     },
     "execution_count": 75,
     "metadata": {},
     "output_type": "execute_result"
    },
    {
     "data": {
      "image/png": "[encoded data removed]",
      "text/plain": [
       "<Figure size 432x288 with 1 Axes>"
      ]
     },
     "metadata": {
      "needs_background": "light"
     },
     "output_type": "display_data"
    }
   ],
   "source": [
    "plt.plot(m.history['accuracy'])\n",
    "plt.plot(m.history['val_accuracy'])"
   ]
  },
  {
   "cell_type": "code",
   "execution_count": 76,
   "metadata": {},
   "outputs": [
    {
     "name": "stdout",
     "output_type": "stream",
     "text": [
      "1/1 [==============================] - 0s 16ms/step - loss: 0.1796 - accuracy: 0.9667\n"
     ]
    }
   ],
   "source": [
    "score= model.evaluate(X_test, y_test)"
   ]
  },
  {
   "cell_type": "code",
   "execution_count": 77,
   "metadata": {
    "colab": {},
    "colab_type": "code",
    "id": "e9-Qryk9nAsI"
   },
   "outputs": [
    {
     "data": {
      "text/plain": [
       "[0.17958137392997742, 0.9666666388511658]"
      ]
     },
     "execution_count": 77,
     "metadata": {},
     "output_type": "execute_result"
    }
   ],
   "source": [
    "score"
   ]
  },
  {
   "cell_type": "code",
   "execution_count": 78,
   "metadata": {},
   "outputs": [
    {
     "name": "stdout",
     "output_type": "stream",
     "text": [
      "WARNING:tensorflow:`model.predict_classes()` is deprecated and will be removed after 2021-01-01. Please use instead:* `np.argmax(model.predict(x), axis=-1)`,   if your model does multi-class classification   (e.g. if it uses a `softmax` last-layer activation).* `(model.predict(x) > 0.5).astype(\"int32\")`,   if your model does binary classification   (e.g. if it uses a `sigmoid` last-layer activation).\n"
     ]
    },
    {
     "name": "stderr",
     "output_type": "stream",
     "text": [
      "WARNING:tensorflow:`model.predict_classes()` is deprecated and will be removed after 2021-01-01. Please use instead:* `np.argmax(model.predict(x), axis=-1)`,   if your model does multi-class classification   (e.g. if it uses a `softmax` last-layer activation).* `(model.predict(x) > 0.5).astype(\"int32\")`,   if your model does binary classification   (e.g. if it uses a `sigmoid` last-layer activation).\n"
     ]
    },
    {
     "data": {
      "text/plain": [
       "array([2, 1, 1, 0, 1, 2, 2, 0, 1, 2, 0, 1, 1, 2, 1, 1, 2, 1, 2, 2, 0, 1,\n",
       "       2, 0, 0, 0, 1, 0, 0, 0])"
      ]
     },
     "execution_count": 78,
     "metadata": {},
     "output_type": "execute_result"
    }
   ],
   "source": [
    "model.predict_classes(X_test)"
   ]
  },
  {
   "cell_type": "code",
   "execution_count": 79,
   "metadata": {},
   "outputs": [
    {
     "data": {
      "text/plain": [
       "array([2, 1, 1, 0, 1, 2, 2, 0, 1, 2, 0, 1, 1, 2, 1, 1, 2, 1, 2, 2, 0, 1,\n",
       "       2, 0, 0, 0, 1, 0, 0, 0])"
      ]
     },
     "execution_count": 79,
     "metadata": {},
     "output_type": "execute_result"
    }
   ],
   "source": [
    "np.argmax(model.predict(X_test), axis=-1)  # predict classes update"
   ]
  },
  {
   "cell_type": "code",
   "execution_count": null,
   "metadata": {},
   "outputs": [],
   "source": []
  },
  {
   "cell_type": "code",
   "execution_count": 80,
   "metadata": {
    "colab": {},
    "colab_type": "code",
    "id": "3yP5d3Y9nAvU"
   },
   "outputs": [],
   "source": [
    "data1=data.iloc[149:150,:-1]"
   ]
  },
  {
   "cell_type": "code",
   "execution_count": 81,
   "metadata": {
    "colab": {},
    "colab_type": "code",
    "id": "cA2hbzH0nAwq"
   },
   "outputs": [
    {
     "data": {
      "text/html": [
       "<div>\n",
       "<style scoped>\n",
       "    .dataframe tbody tr th:only-of-type {\n",
       "        vertical-align: middle;\n",
       "    }\n",
       "\n",
       "    .dataframe tbody tr th {\n",
       "        vertical-align: top;\n",
       "    }\n",
       "\n",
       "    .dataframe thead th {\n",
       "        text-align: right;\n",
       "    }\n",
       "</style>\n",
       "<table border=\"1\" class=\"dataframe\">\n",
       "  <thead>\n",
       "    <tr style=\"text-align: right;\">\n",
       "      <th></th>\n",
       "      <th>sepal_length</th>\n",
       "      <th>sepal_width</th>\n",
       "      <th>petal_length</th>\n",
       "      <th>petal_width</th>\n",
       "    </tr>\n",
       "  </thead>\n",
       "  <tbody>\n",
       "    <tr>\n",
       "      <th>149</th>\n",
       "      <td>5.9</td>\n",
       "      <td>3.0</td>\n",
       "      <td>5.1</td>\n",
       "      <td>1.8</td>\n",
       "    </tr>\n",
       "  </tbody>\n",
       "</table>\n",
       "</div>"
      ],
      "text/plain": [
       "     sepal_length  sepal_width  petal_length  petal_width\n",
       "149           5.9          3.0           5.1          1.8"
      ]
     },
     "execution_count": 81,
     "metadata": {},
     "output_type": "execute_result"
    }
   ],
   "source": [
    "data1"
   ]
  },
  {
   "cell_type": "code",
   "execution_count": 82,
   "metadata": {},
   "outputs": [
    {
     "data": {
      "text/html": [
       "<div>\n",
       "<style scoped>\n",
       "    .dataframe tbody tr th:only-of-type {\n",
       "        vertical-align: middle;\n",
       "    }\n",
       "\n",
       "    .dataframe tbody tr th {\n",
       "        vertical-align: top;\n",
       "    }\n",
       "\n",
       "    .dataframe thead th {\n",
       "        text-align: right;\n",
       "    }\n",
       "</style>\n",
       "<table border=\"1\" class=\"dataframe\">\n",
       "  <thead>\n",
       "    <tr style=\"text-align: right;\">\n",
       "      <th></th>\n",
       "      <th>sepal_length</th>\n",
       "      <th>sepal_width</th>\n",
       "      <th>petal_length</th>\n",
       "      <th>petal_width</th>\n",
       "      <th>species</th>\n",
       "    </tr>\n",
       "  </thead>\n",
       "  <tbody>\n",
       "    <tr>\n",
       "      <th>149</th>\n",
       "      <td>5.9</td>\n",
       "      <td>3.0</td>\n",
       "      <td>5.1</td>\n",
       "      <td>1.8</td>\n",
       "      <td>2</td>\n",
       "    </tr>\n",
       "  </tbody>\n",
       "</table>\n",
       "</div>"
      ],
      "text/plain": [
       "     sepal_length  sepal_width  petal_length  petal_width  species\n",
       "149           5.9          3.0           5.1          1.8        2"
      ]
     },
     "execution_count": 82,
     "metadata": {},
     "output_type": "execute_result"
    }
   ],
   "source": [
    "data.iloc[149:150,:]"
   ]
  },
  {
   "cell_type": "code",
   "execution_count": 83,
   "metadata": {},
   "outputs": [],
   "source": [
    "#y_test1=data.iloc[149:150,-1]"
   ]
  },
  {
   "cell_type": "code",
   "execution_count": 84,
   "metadata": {},
   "outputs": [],
   "source": [
    "#y_test1"
   ]
  },
  {
   "cell_type": "code",
   "execution_count": 85,
   "metadata": {},
   "outputs": [],
   "source": [
    "#model.evaluate(data1,y_test1)"
   ]
  },
  {
   "cell_type": "code",
   "execution_count": 86,
   "metadata": {},
   "outputs": [
    {
     "data": {
      "text/plain": [
       "array([[7.6507931e-05, 2.4465264e-01, 7.5527084e-01]], dtype=float32)"
      ]
     },
     "execution_count": 86,
     "metadata": {},
     "output_type": "execute_result"
    }
   ],
   "source": [
    "model.predict(data1)     #  probabilty output"
   ]
  },
  {
   "cell_type": "code",
   "execution_count": 87,
   "metadata": {
    "colab": {},
    "colab_type": "code",
    "id": "7bnuR0FBnA27"
   },
   "outputs": [
    {
     "name": "stdout",
     "output_type": "stream",
     "text": [
      "WARNING:tensorflow:`model.predict_classes()` is deprecated and will be removed after 2021-01-01. Please use instead:* `np.argmax(model.predict(x), axis=-1)`,   if your model does multi-class classification   (e.g. if it uses a `softmax` last-layer activation).* `(model.predict(x) > 0.5).astype(\"int32\")`,   if your model does binary classification   (e.g. if it uses a `sigmoid` last-layer activation).\n"
     ]
    },
    {
     "name": "stderr",
     "output_type": "stream",
     "text": [
      "WARNING:tensorflow:`model.predict_classes()` is deprecated and will be removed after 2021-01-01. Please use instead:* `np.argmax(model.predict(x), axis=-1)`,   if your model does multi-class classification   (e.g. if it uses a `softmax` last-layer activation).* `(model.predict(x) > 0.5).astype(\"int32\")`,   if your model does binary classification   (e.g. if it uses a `sigmoid` last-layer activation).\n"
     ]
    }
   ],
   "source": [
    "a=model.predict_classes(data1)   "
   ]
  },
  {
   "cell_type": "code",
   "execution_count": 88,
   "metadata": {},
   "outputs": [
    {
     "data": {
      "text/plain": [
       "array([2])"
      ]
     },
     "execution_count": 88,
     "metadata": {},
     "output_type": "execute_result"
    }
   ],
   "source": [
    "a"
   ]
  },
  {
   "cell_type": "code",
   "execution_count": 89,
   "metadata": {},
   "outputs": [
    {
     "data": {
      "text/plain": [
       "array(['Iris-virginica'], dtype=object)"
      ]
     },
     "execution_count": 89,
     "metadata": {},
     "output_type": "execute_result"
    }
   ],
   "source": [
    "lc.inverse_transform(a)"
   ]
  },
  {
   "cell_type": "code",
   "execution_count": null,
   "metadata": {},
   "outputs": [],
   "source": []
  },
  {
   "cell_type": "code",
   "execution_count": null,
   "metadata": {},
   "outputs": [],
   "source": []
  },
  {
   "cell_type": "code",
   "execution_count": 90,
   "metadata": {},
   "outputs": [],
   "source": [
    "keras_file=\"clf.h5\""
   ]
  },
  {
   "cell_type": "code",
   "execution_count": 91,
   "metadata": {},
   "outputs": [],
   "source": [
    "keras.models.save_model(model,keras_file)"
   ]
  },
  {
   "cell_type": "code",
   "execution_count": null,
   "metadata": {},
   "outputs": [],
   "source": []
  },
  {
   "cell_type": "code",
   "execution_count": 92,
   "metadata": {
    "colab": {},
    "colab_type": "code",
    "id": "4l7zwPAtnA51"
   },
   "outputs": [],
   "source": [
    "from tensorflow import lite"
   ]
  },
  {
   "cell_type": "code",
   "execution_count": 93,
   "metadata": {},
   "outputs": [],
   "source": [
    "converter= lite.TFLiteConverter.from_keras_model(keras_file)"
   ]
  },
  {
   "cell_type": "code",
   "execution_count": 94,
   "metadata": {},
   "outputs": [],
   "source": [
    "tflite_model=converter.convert"
   ]
  },
  {
   "cell_type": "code",
   "execution_count": 95,
   "metadata": {},
   "outputs": [
    {
     "name": "stdout",
     "output_type": "stream",
     "text": [
      "INFO:tensorflow:Assets written to: /tmp/tmpbvxeel5r/assets\n"
     ]
    },
    {
     "name": "stderr",
     "output_type": "stream",
     "text": [
      "INFO:tensorflow:Assets written to: /tmp/tmpbvxeel5r/assets\n"
     ]
    }
   ],
   "source": [
    "# Convert the model.\n",
    "converter = tf.lite.TFLiteConverter.from_keras_model(model)\n",
    "tflite_model = converter.convert()\n",
    "\n",
    "# Save the model.\n",
    "with open('model.tflite', 'wb') as f:\n",
    "  f.write(tflite_model)"
   ]
  },
  {
   "cell_type": "code",
   "execution_count": 98,
   "metadata": {
    "colab": {},
    "colab_type": "code",
    "id": "asXk0WoCnAzU"
   },
   "outputs": [
    {
     "ename": "AttributeError",
     "evalue": "'Sequential' object has no attribute 'export'",
     "output_type": "error",
     "traceback": [
      "\u001b[0;31m---------------------------------------------------------------------------\u001b[0m",
      "\u001b[0;31mAttributeError\u001b[0m                            Traceback (most recent call last)",
      "\u001b[0;32m<ipython-input-98-a7d9d3c26392>\u001b[0m in \u001b[0;36m<module>\u001b[0;34m\u001b[0m\n\u001b[0;32m----> 1\u001b[0;31m \u001b[0mmodel\u001b[0m\u001b[0;34m.\u001b[0m\u001b[0mexport\u001b[0m\u001b[0;34m(\u001b[0m\u001b[0mexport_dir\u001b[0m\u001b[0;34m=\u001b[0m\u001b[0;34m\".\"\u001b[0m\u001b[0;34m,\u001b[0m\u001b[0mwith_metadata\u001b[0m\u001b[0;34m=\u001b[0m\u001b[0;32mTrue\u001b[0m\u001b[0;34m)\u001b[0m\u001b[0;34m\u001b[0m\u001b[0;34m\u001b[0m\u001b[0m\n\u001b[0m",
      "\u001b[0;31mAttributeError\u001b[0m: 'Sequential' object has no attribute 'export'"
     ]
    }
   ],
   "source": [
    "model.export(export_dir=\".\",with_metadata=True)"
   ]
  }
 ],
 "metadata": {
  "accelerator": "GPU",
  "colab": {
   "collapsed_sections": [],
   "name": "Deep_Learning_1.ipynb",
   "provenance": [],
   "version": "0.3.2"
  },
  "kernelspec": {
   "display_name": "Python 3",
   "language": "python",
   "name": "python3"
  },
  "language_info": {
   "codemirror_mode": {
    "name": "ipython",
    "version": 3
   },
   "file_extension": ".py",
   "mimetype": "text/x-python",
   "name": "python",
   "nbconvert_exporter": "python",
   "pygments_lexer": "ipython3",
   "version": "3.7.3"
  }
 },
 "nbformat": 4,
 "nbformat_minor": 1
}
